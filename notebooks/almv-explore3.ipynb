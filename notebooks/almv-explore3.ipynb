{
 "cells": [
  {
   "cell_type": "code",
   "execution_count": 2,
   "id": "f469b72f",
   "metadata": {},
   "outputs": [],
   "source": [
    "%matplotlib inline \n",
    "\n",
    "import os\n",
    "from os.path import join, dirname, basename, splitext, exists\n",
    "import json\n",
    "import glob\n",
    "\n",
    "from rasterio.plot import show\n",
    "import rasterio\n",
    "from rasterio.profiles import DefaultGTiffProfile\n",
    "import matplotlib.pyplot as plt\n",
    "import xmltodict\n",
    "from shapely.geometry import Polygon\n",
    "import numpy as np\n",
    "from shapely.geometry import mapping"
   ]
  },
  {
   "cell_type": "code",
   "execution_count": 3,
   "id": "dced96fa",
   "metadata": {},
   "outputs": [],
   "source": [
    "data_dir = '/opt/data/alimentiv-histo/'\n",
    "image_dir = join(data_dir, 'EOE_Images')\n",
    "label_dir = join(data_dir, 'Layer Data EOE_Images')\n",
    "\n",
    "output_dir = join(data_dir, 'output')\n",
    "new_label_dir = join(output_dir, 'labels')\n",
    "new_aoi_dir = join(output_dir, 'aois')\n",
    "new_qgis_aoi_dir = join(output_dir, 'qgis-aois')\n",
    "if not exists(new_label_dir):\n",
    "    os.makedirs(new_label_dir)\n",
    "if not exists(new_aoi_dir):\n",
    "    os.makedirs(new_aoi_dir)\n",
    "if not exists(new_qgis_aoi_dir):\n",
    "    os.makedirs(new_qgis_aoi_dir)\n",
    "    \n",
    "image_paths = glob.glob(join(image_dir, '*'))\n",
    "image_fns = [splitext(basename(x))[0] for x in image_paths]\n",
    "dots_per_mm = {x: 4000 if len(x) == 5 else 5000 for x in image_fns}\n",
    "label_paths = [join(label_dir, f'{x}.tif') for x in image_fns]\n",
    "fov_paths = [join(label_dir, f'{x}.xml') for x in image_fns]"
   ]
  },
  {
   "cell_type": "code",
   "execution_count": 3,
   "id": "0a93f5d2",
   "metadata": {
    "scrolled": true
   },
   "outputs": [
    {
     "name": "stdout",
     "output_type": "stream",
     "text": [
      "Warning: > 1 FOV in /opt/data/alimentiv-histo/Layer Data EOE_Images/12002.xml\n"
     ]
    }
   ],
   "source": [
    "id2fov = {}\n",
    "for fov_path, image_fn in zip(fov_paths, image_fns):\n",
    "    with open(fov_path) as fd:\n",
    "        fov_dict = xmltodict.parse(fd.read())\n",
    "    regions = fov_dict['LayerData']['Regions']\n",
    "    if regions:\n",
    "        if len(regions['Object']) != 2:\n",
    "            print(f'Warning: > 1 FOV in {fov_path}')\n",
    "        points = regions['Object'][1]['Vertices']['Vertex']\n",
    "        fov = [(float(p['@X']), float(p['@Y'])) for p in points]\n",
    "        id2fov[image_fn] = fov"
   ]
  },
  {
   "cell_type": "code",
   "execution_count": 9,
   "id": "73052e76",
   "metadata": {},
   "outputs": [
    {
     "data": {
      "text/plain": [
       "(array([49.,  6.,  2.,  1.,  2.,  0.,  1.,  0.,  0.,  2.]),\n",
       " array([ 0.15288403,  1.75628239,  3.35968076,  4.96307913,  6.5664775 ,\n",
       "         8.16987587,  9.77327424, 11.37667261, 12.98007097, 14.58346934,\n",
       "        16.18686771]),\n",
       " <BarContainer object of 10 artists>)"
      ]
     },
     "execution_count": 9,
     "metadata": {},
     "output_type": "execute_result"
    },
    {
     "data": {
      "image/png": "[encoded data removed]",
      "text/plain": [
       "<Figure size 432x288 with 1 Axes>"
      ]
     },
     "metadata": {
      "needs_background": "light"
     },
     "output_type": "display_data"
    }
   ],
   "source": [
    "shapes = []\n",
    "for image_path in image_paths:\n",
    "    shapes.append(rasterio.open(image_path).shape)\n",
    "\n",
    "shapes = np.array(shapes)\n",
    "max_pixels = shapes.max(axis=0).prod()\n",
    "gbs = shapes.prod(axis=1) / (10 ** 9)\n",
    "# distribution of images sizes in GBs\n",
    "# we can't load the big ones into RAM\n",
    "plt.hist(gbs)"
   ]
  },
  {
   "cell_type": "code",
   "execution_count": null,
   "id": "e0fadf1a",
   "metadata": {},
   "outputs": [
    {
     "name": "stdout",
     "output_type": "stream",
     "text": [
      "Processing /opt/data/alimentiv-histo/EOE_Images/1.tif\n",
      "(25500, 27995)\n",
      "Processing /opt/data/alimentiv-histo/EOE_Images/10.tif\n",
      "(42500, 33505)\n",
      "Processing /opt/data/alimentiv-histo/EOE_Images/11.tif\n",
      "(33500, 21997)\n",
      "Processing /opt/data/alimentiv-histo/EOE_Images/12.tif\n",
      "(23414, 25162)\n",
      "Processing /opt/data/alimentiv-histo/EOE_Images/12002.tiff\n",
      "(69632, 78848)\n",
      "Processing /opt/data/alimentiv-histo/EOE_Images/12022.tiff\n",
      "(42496, 56320)\n",
      "Processing /opt/data/alimentiv-histo/EOE_Images/12026.tiff\n",
      "(29696, 86016)\n",
      "Processing /opt/data/alimentiv-histo/EOE_Images/12030.tiff\n",
      "(20992, 65024)\n",
      "Processing /opt/data/alimentiv-histo/EOE_Images/12033.tiff\n",
      "(65536, 104448)\n",
      "Processing /opt/data/alimentiv-histo/EOE_Images/12048.tiff\n",
      "(28160, 58880)\n",
      "Processing /opt/data/alimentiv-histo/EOE_Images/12053.tiff\n",
      "(20992, 59904)\n",
      "Processing /opt/data/alimentiv-histo/EOE_Images/12071.tiff\n",
      "(89600, 164352)\n"
     ]
    }
   ],
   "source": [
    "for image_fn, image_path in zip(image_fns, image_paths):\n",
    "    print(f'Processing {image_path}')\n",
    "    fov = id2fov[image_fn]\n",
    "    _dots_per_mm = dots_per_mm[image_fn]\n",
    "    new_label_path = join(new_label_dir, f'{image_fn}.tif')\n",
    "    new_aoi_path = join(new_aoi_dir, f'{image_fn}.json')\n",
    "    \n",
    "    img_src = rasterio.open(image_path)\n",
    "    img_shape = img_src.shape\n",
    "    print(img_shape)\n",
    "    height, width = img_shape\n",
    "    img_center = np.array([[width, height]]) // 2\n",
    "        \n",
    "    label_path = join(label_dir, f'{image_fn}.tif')\n",
    "    label_src = rasterio.open(label_path)\n",
    "    label_arr = label_src.read(1)\n",
    "    label_arr[label_arr != 0] = 1\n",
    "    \n",
    "    # convert to image pixel coords\n",
    "    fov = np.array(fov)\n",
    "    # negate the y dimension so that the value increases as we go down the array\n",
    "    fov[:, 1] *= -1\n",
    "    fov = ((fov * _dots_per_mm) + img_center).round().astype(int)\n",
    "    fov_poly = Polygon(fov)\n",
    "    fov_center = np.array(fov_poly.centroid.xy).squeeze()\n",
    "    \n",
    "    # shift label array to center of FOV\n",
    "    label_height, label_width = label_arr.shape\n",
    "    label_half_width = np.array([label_width, label_height]) // 2\n",
    "    label_offset = (fov_center - label_half_width).astype(np.int32)\n",
    "    label_overlay = np.zeros(img_shape, dtype=np.uint8)\n",
    "    label_overlay[\n",
    "        label_offset[1]:label_offset[1] + label_height, \n",
    "        label_offset[0]:label_offset[0] + label_width] = label_arr\n",
    "    \n",
    "    # save new labels\n",
    "    profile = DefaultGTiffProfile(count=1, width=label_overlay.shape[1], height=label_overlay.shape[0])\n",
    "    with rasterio.open(new_label_path, 'w', **profile) as dst:\n",
    "        dst.write(label_overlay, 1)\n",
    "        \n",
    "    # save with y dim negated for visualization in QGIS\n",
    "    for orientation in ['neg', 'pos']:\n",
    "        fov[:, 1] *= -1\n",
    "        fov_poly = Polygon(fov)\n",
    "        aoi_dict = {\n",
    "            'type': 'FeatureCollection',\n",
    "            'features': [\n",
    "                {\n",
    "                    'type': 'Feature',\n",
    "                    'geometry': mapping(fov_poly),\n",
    "                }\n",
    "            ]\n",
    "        }\n",
    "        out_dir = new_qgis_aoi_dir if orientation == 'neg' else new_aoi_dir\n",
    "        out_path = join(out_dir, f'{image_fn}.json')\n",
    "        with open(out_path, 'w') as aoi_fd:\n",
    "            aoi_fd.write(json.dumps(aoi_dict))"
   ]
  },
  {
   "cell_type": "code",
   "execution_count": null,
   "id": "5d8596e6",
   "metadata": {},
   "outputs": [],
   "source": []
  }
 ],
 "metadata": {
  "kernelspec": {
   "display_name": "Python 3 (ipykernel)",
   "language": "python",
   "name": "python3"
  },
  "language_info": {
   "codemirror_mode": {
    "name": "ipython",
    "version": 3
   },
   "file_extension": ".py",
   "mimetype": "text/x-python",
   "name": "python",
   "nbconvert_exporter": "python",
   "pygments_lexer": "ipython3",
   "version": "3.9.7"
  }
 },
 "nbformat": 4,
 "nbformat_minor": 5
}
