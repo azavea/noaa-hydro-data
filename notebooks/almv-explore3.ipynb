{
 "cells": [
  {
   "cell_type": "code",
   "execution_count": 45,
   "id": "f469b72f",
   "metadata": {},
   "outputs": [],
   "source": [
    "%matplotlib inline \n",
    "\n",
    "from os.path import join\n",
    "import json\n",
    "\n",
    "from rasterio.plot import show\n",
    "import rasterio\n",
    "import matplotlib.pyplot as plt\n",
    "import xmltodict\n",
    "from shapely.geometry import Polygon\n",
    "import numpy as np\n",
    "from shapely.geometry import mapping"
   ]
  },
  {
   "cell_type": "code",
   "execution_count": 57,
   "id": "dced96fa",
   "metadata": {},
   "outputs": [],
   "source": [
    "data_dir = '/opt/data/nih-histo/eosinophil-data/'\n",
    "img_path = join(data_dir, '41.tiff')\n",
    "label_path = join(data_dir, '41-labels.tiff')\n",
    "fov_path = join(data_dir, '41.xml')"
   ]
  },
  {
   "cell_type": "code",
   "execution_count": 58,
   "id": "e0fadf1a",
   "metadata": {},
   "outputs": [
    {
     "data": {
      "text/plain": [
       "(27000, 33505)"
      ]
     },
     "execution_count": 58,
     "metadata": {},
     "output_type": "execute_result"
    }
   ],
   "source": [
    "img_src = rasterio.open(img_path)\n",
    "img_shape = img_src.shape\n",
    "img_shape"
   ]
  },
  {
   "cell_type": "code",
   "execution_count": 60,
   "id": "a4354ac8",
   "metadata": {},
   "outputs": [
    {
     "data": {
      "text/plain": [
       "<matplotlib.image.AxesImage at 0x4230a9abb0>"
      ]
     },
     "execution_count": 60,
     "metadata": {},
     "output_type": "execute_result"
    },
    {
     "data": {
      "image/png": "[encoded data removed]",
      "text/plain": [
       "<Figure size 432x288 with 1 Axes>"
      ]
     },
     "metadata": {
      "needs_background": "light"
     },
     "output_type": "display_data"
    }
   ],
   "source": [
    "src = rasterio.open(label_path)\n",
    "label_arr = src.read(1)\n",
    "plt.imshow(label_arr, cmap='gray')"
   ]
  },
  {
   "cell_type": "code",
   "execution_count": 61,
   "id": "9b9e7e8e",
   "metadata": {},
   "outputs": [],
   "source": [
    "# These vertices described the blue dashed circle shown in the images above for #32 and #22076. These are expressed in millimeters where the center of the image is (0 mm, 0 mm) and the x-coordinate increases from left to right and the y-coordinate increases from bottom to top.\n",
    "# How many millimeters are there per pixel? Once I have that piece of information, I should be able to translate these into pixel-based coordinates. I could not find this information precisely, but rather the dots/mm – with is 4000 dots/mm for the images labeled with 5 digits (ex: #22076) and 5000 dots/mm for the images labeled with 1 or 2 digits (ex: 32). Below is a copy of the image information for #22076, as an example.\n",
    "\n",
    "with open(fov_path) as fd:\n",
    "    fov_dict = xmltodict.parse(fd.read())\n",
    "points = fov_dict['LayerData']['Regions']['Object'][1]['Vertices']['Vertex']\n",
    "fov = [(float(p['@X']), float(p['@Y'])) for p in points]\n",
    "fov = np.array(fov)\n",
    "dots_per_mm = 5000\n",
    "# negate the y dimension so that the value increases as we go down the array\n",
    "fov[:, 1] *= -1"
   ]
  },
  {
   "cell_type": "code",
   "execution_count": 62,
   "id": "26a0ef3a",
   "metadata": {},
   "outputs": [
    {
     "data": {
      "text/plain": [
       "array([[16752, 13500]])"
      ]
     },
     "execution_count": 62,
     "metadata": {},
     "output_type": "execute_result"
    }
   ],
   "source": [
    "height, width = img_shape\n",
    "img_center = np.array([[width, height]]) // 2\n",
    "img_center"
   ]
  },
  {
   "cell_type": "code",
   "execution_count": 73,
   "id": "83426568",
   "metadata": {},
   "outputs": [
    {
     "data": {
      "image/svg+xml": [
       "<svg xmlns=\"http://www.w3.org/2000/svg\" xmlns:xlink=\"http://www.w3.org/1999/xlink\" width=\"300\" height=\"300\" viewBox=\"20011.0 -20930.0 2970.0 2970.0\" preserveAspectRatio=\"xMinYMin meet\"><g transform=\"matrix(1,0,0,-1,0,-38890.0)\"><path fill-rule=\"evenodd\" fill=\"#66cc99\" stroke=\"#555555\" stroke-width=\"19.8\" opacity=\"0.6\" d=\"M 22871.0,-19445.0 L 22867.0,-19553.0 L 22854.0,-19660.0 L 22833.0,-19766.0 L 22803.0,-19870.0 L 22766.0,-19971.0 L 22721.0,-20069.0 L 22668.0,-20164.0 L 22608.0,-20253.0 L 22541.0,-20338.0 L 22468.0,-20417.0 L 22389.0,-20491.0 L 22304.0,-20558.0 L 22214.0,-20618.0 L 22120.0,-20670.0 L 22022.0,-20716.0 L 21921.0,-20753.0 L 21817.0,-20782.0 L 21711.0,-20803.0 L 21604.0,-20816.0 L 21496.0,-20820.0 L 21388.0,-20816.0 L 21281.0,-20803.0 L 21175.0,-20782.0 L 21071.0,-20753.0 L 20970.0,-20716.0 L 20872.0,-20670.0 L 20777.0,-20618.0 L 20688.0,-20558.0 L 20603.0,-20491.0 L 20523.0,-20417.0 L 20450.0,-20338.0 L 20383.0,-20253.0 L 20323.0,-20164.0 L 20271.0,-20069.0 L 20225.0,-19971.0 L 20188.0,-19870.0 L 20159.0,-19766.0 L 20138.0,-19660.0 L 20125.0,-19553.0 L 20121.0,-19445.0 L 20125.0,-19337.0 L 20138.0,-19230.0 L 20159.0,-19124.0 L 20188.0,-19020.0 L 20225.0,-18919.0 L 20271.0,-18821.0 L 20323.0,-18727.0 L 20383.0,-18637.0 L 20450.0,-18552.0 L 20523.0,-18473.0 L 20603.0,-18400.0 L 20688.0,-18333.0 L 20777.0,-18273.0 L 20872.0,-18220.0 L 20970.0,-18175.0 L 21071.0,-18138.0 L 21175.0,-18108.0 L 21281.0,-18087.0 L 21388.0,-18074.0 L 21496.0,-18070.0 L 21604.0,-18074.0 L 21711.0,-18087.0 L 21817.0,-18108.0 L 21921.0,-18138.0 L 22022.0,-18175.0 L 22120.0,-18220.0 L 22214.0,-18273.0 L 22304.0,-18333.0 L 22389.0,-18400.0 L 22468.0,-18473.0 L 22541.0,-18552.0 L 22608.0,-18637.0 L 22668.0,-18727.0 L 22721.0,-18821.0 L 22766.0,-18919.0 L 22803.0,-19020.0 L 22833.0,-19124.0 L 22854.0,-19230.0 L 22867.0,-19337.0 L 22871.0,-19445.0 z\" /></g></svg>"
      ],
      "text/plain": [
       "<shapely.geometry.polygon.Polygon at 0x4193a16220>"
      ]
     },
     "execution_count": 73,
     "metadata": {},
     "output_type": "execute_result"
    }
   ],
   "source": [
    "# multiply by scale factor so it's in pixel coordinates and then\n",
    "# center the cicle: add the position of the center of the image\n",
    "fov_poly_arr = ((fov * dots_per_mm) + img_center).round().astype(int)\n",
    "# make Y values negative to display in QGIS. \n",
    "# TODO Remove this\n",
    "fov_poly_arr[:, 1] *= -1\n",
    "fov_poly = Polygon(fov_poly_arr)\n",
    "fov_poly"
   ]
  },
  {
   "cell_type": "code",
   "execution_count": 66,
   "id": "1256686e",
   "metadata": {},
   "outputs": [
    {
     "data": {
      "text/plain": [
       "array([21495.77572356, 19445.19936929])"
      ]
     },
     "execution_count": 66,
     "metadata": {},
     "output_type": "execute_result"
    }
   ],
   "source": [
    "fov_center = np.array(fov_poly.centroid.xy).squeeze()\n",
    "fov_center"
   ]
  },
  {
   "cell_type": "code",
   "execution_count": 67,
   "id": "d4f0fa2c",
   "metadata": {},
   "outputs": [
    {
     "data": {
      "text/plain": [
       "array([20112, 18062], dtype=int32)"
      ]
     },
     "execution_count": 67,
     "metadata": {},
     "output_type": "execute_result"
    }
   ],
   "source": [
    "label_height, label_width = label_arr.shape\n",
    "label_half_width = np.array([label_width, label_height]) // 2\n",
    "label_offset = (fov_center - label_half_width).astype(np.int32)\n",
    "label_offset"
   ]
  },
  {
   "cell_type": "code",
   "execution_count": 68,
   "id": "5096029b",
   "metadata": {},
   "outputs": [],
   "source": [
    "label_overlay = np.zeros(img_shape, dtype=np.uint8)\n",
    "label_overlay[\n",
    "    label_offset[1]:label_offset[1] + label_height, \n",
    "    label_offset[0]:label_offset[0] + label_width] = label_arr"
   ]
  },
  {
   "cell_type": "code",
   "execution_count": 69,
   "id": "93696e28",
   "metadata": {},
   "outputs": [],
   "source": [
    "# save geotiff and check in qgis\n",
    "# save fov_poly to geojson\n",
    "# check that all xml files have a single FOV"
   ]
  },
  {
   "cell_type": "code",
   "execution_count": 70,
   "id": "eb634bf2",
   "metadata": {},
   "outputs": [],
   "source": [
    "from rasterio.profiles import DefaultGTiffProfile\n",
    "\n",
    "profile = DefaultGTiffProfile(count=1, width=label_overlay.shape[1], height=label_overlay.shape[0])\n",
    "new_label_path = join(data_dir, 'new-labels.tiff')\n",
    "\n",
    "with rasterio.open(new_label_path, 'w', **profile) as dst:\n",
    "    dst.write(label_overlay, 1)"
   ]
  },
  {
   "cell_type": "code",
   "execution_count": 74,
   "id": "63523323",
   "metadata": {},
   "outputs": [],
   "source": [
    "aoi_dict = {\n",
    "    'type': 'FeatureCollection',\n",
    "    'features': [\n",
    "        {\n",
    "            'type': 'Feature',\n",
    "            'geometry': mapping(fov_poly),\n",
    "        }\n",
    "    ]\n",
    "}"
   ]
  },
  {
   "cell_type": "code",
   "execution_count": 75,
   "id": "27a438ca",
   "metadata": {},
   "outputs": [],
   "source": [
    "aoi_path = join(data_dir, 'aoi.json')\n",
    "with open(aoi_path, 'w') as aoi_fd:\n",
    "    aoi_fd.write(json.dumps(aoi_dict))"
   ]
  },
  {
   "cell_type": "code",
   "execution_count": null,
   "id": "e51455ac",
   "metadata": {},
   "outputs": [],
   "source": []
  }
 ],
 "metadata": {
  "kernelspec": {
   "display_name": "Python 3 (ipykernel)",
   "language": "python",
   "name": "python3"
  },
  "language_info": {
   "codemirror_mode": {
    "name": "ipython",
    "version": 3
   },
   "file_extension": ".py",
   "mimetype": "text/x-python",
   "name": "python",
   "nbconvert_exporter": "python",
   "pygments_lexer": "ipython3",
   "version": "3.9.7"
  }
 },
 "nbformat": 4,
 "nbformat_minor": 5
}
