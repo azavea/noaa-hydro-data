{
 "cells": [
  {
   "cell_type": "markdown",
   "id": "c8e9b643",
   "metadata": {},
   "source": [
    "# Save a file for each HUC with reach geoms and ids\n",
    "\n",
    "To make things more cloud-friendly, we want to save a portion of the NHD database in a set of GeoJSON files which can be stored on S3. Each file will have the reach geometries and associated ids."
   ]
  },
  {
   "cell_type": "code",
   "execution_count": 48,
   "id": "45c95b9c",
   "metadata": {},
   "outputs": [],
   "source": [
    "import json\n",
    "import os\n",
    "\n",
    "import psycopg2\n",
    "import shapely\n",
    "import shapely.wkt\n",
    "import geopandas as gpd\n",
    "import xarray as xr\n",
    "import fsspec\n",
    "import numpy as np\n",
    "import pyproj\n",
    "import dask.bag as db\n",
    "from dask.distributed import Client\n",
    "\n",
    "%matplotlib inline"
   ]
  },
  {
   "cell_type": "code",
   "execution_count": 2,
   "id": "320dbbf2",
   "metadata": {},
   "outputs": [],
   "source": [
    "def get_cursor(database):\n",
    "    connection = psycopg2.connect(host=\"noaa-db\", database=database,user=\"postgres\", password=\"mysecretpassword\")\n",
    "    cursor = connection.cursor()\n",
    "    return cursor"
   ]
  },
  {
   "cell_type": "markdown",
   "id": "dc3e3138",
   "metadata": {},
   "source": [
    "# Get all HUC12s and write a GeoJSON file for each one."
   ]
  },
  {
   "cell_type": "code",
   "execution_count": 50,
   "id": "7606e2ee",
   "metadata": {},
   "outputs": [],
   "source": [
    "cursor = get_cursor('nhdplushr')\n",
    "query = \"SELECT huc12 from wbdhu12\"\n",
    "cursor.execute(query)\n",
    "huc12s = [c[0] for c in cursor]"
   ]
  },
  {
   "cell_type": "code",
   "execution_count": 45,
   "id": "15962746",
   "metadata": {},
   "outputs": [],
   "source": [
    "def save_huc_extract(huc12, out_dir):\n",
    "    # get huc12 boundary\n",
    "    cursor = get_cursor('nhdplushr')\n",
    "    query = \"SELECT wkb_geometry from wbdhu12 WHERE huc12=%s\"\n",
    "    cursor.execute(query, [huc12])\n",
    "    huc_geom = shapely.wkb.loads(cursor.fetchone()[0].tobytes())\n",
    "    \n",
    "    # get reaches intersecting with huc boundary\n",
    "    cursor = get_cursor('nhdplusv2')\n",
    "    query = f'''\n",
    "        SELECT comid, ST_Force2D(wkb_geometry) from nhdflowline WHERE ST_Intersects(\n",
    "            ST_GeomFromWKB(wkb_geometry, 4326), ST_GeomFromGeoJSON(%s))\n",
    "        '''\n",
    "    huc_geom_str = json.dumps(shapely.geometry.mapping(huc_geom))\n",
    "    cursor.execute(query, [huc_geom_str])\n",
    "    reach_geoms = []\n",
    "    reach_ids = []\n",
    "    for reach_id, reach_geom in cursor:\n",
    "        reach_ids.append(int(reach_id))\n",
    "        reach_geoms.append(shapely.wkb.loads(reach_geom, hex=True))\n",
    "\n",
    "    # make dataframe with comid and geometries and save to GeoJSON    \n",
    "    df = gpd.GeoDataFrame({'comid': reach_ids + [0], 'geometry': reach_geoms + [huc_geom]})\n",
    "    out_path = os.path.join(out_dir, f'{huc12}.json')\n",
    "    df.to_file(out_path, driver='GeoJSON', index=False)"
   ]
  },
  {
   "cell_type": "code",
   "execution_count": 51,
   "id": "d95c104c",
   "metadata": {},
   "outputs": [
    {
     "name": "stderr",
     "output_type": "stream",
     "text": [
      "/srv/conda/envs/notebook/lib/python3.9/site-packages/distributed/node.py:160: UserWarning: Port 8787 is already in use.\n",
      "Perhaps you already have a cluster running?\n",
      "Hosting the HTTP server on port 34689 instead\n",
      "  warnings.warn(\n"
     ]
    }
   ],
   "source": [
    "out_dir = '/opt/data/noaa/huc12-extracts/'\n",
    "os.makedirs(out_dir, exist_ok=True)\n",
    "\n",
    "limit = 10\n",
    "npartitions = limit\n",
    "# out_dir = 's3://research-lf-dev/noaa/huc12-extracts/'\n",
    "\n",
    "# Parallelize across HUCs\n",
    "client = Client()\n",
    "huc_bag = db.from_sequence(huc12s[0:limit], npartitions=npartitions)\n",
    "out = huc_bag.map(save_huc_extract, out_dir).compute()"
   ]
  },
  {
   "cell_type": "code",
   "execution_count": null,
   "id": "e008f837",
   "metadata": {},
   "outputs": [],
   "source": []
  }
 ],
 "metadata": {
  "kernelspec": {
   "display_name": "Python 3 (ipykernel)",
   "language": "python",
   "name": "python3"
  },
  "language_info": {
   "codemirror_mode": {
    "name": "ipython",
    "version": 3
   },
   "file_extension": ".py",
   "mimetype": "text/x-python",
   "name": "python",
   "nbconvert_exporter": "python",
   "pygments_lexer": "ipython3",
   "version": "3.9.7"
  }
 },
 "nbformat": 4,
 "nbformat_minor": 5
}
