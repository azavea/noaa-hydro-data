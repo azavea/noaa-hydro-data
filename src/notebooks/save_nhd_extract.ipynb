{
 "cells": [
  {
   "cell_type": "markdown",
   "id": "c8e9b643",
   "metadata": {},
   "source": [
    "# Save a file for each HUC with reach geoms and ids\n",
    "\n",
    "To make things more cloud-friendly, we want to save a portion of the NHD database in a set of GeoJSON files which can be stored on S3. Each file will have the reach geometries and associated ids."
   ]
  },
  {
   "cell_type": "code",
   "execution_count": 1,
   "id": "45c95b9c",
   "metadata": {},
   "outputs": [
    {
     "name": "stderr",
     "output_type": "stream",
     "text": [
      "ERROR 1: PROJ: proj_create_from_database: Open of /srv/conda/envs/notebook/share/proj failed\n"
     ]
    }
   ],
   "source": [
    "import json\n",
    "import os\n",
    "import collections\n",
    "\n",
    "import psycopg2\n",
    "import shapely\n",
    "import shapely.wkt\n",
    "import geopandas as gpd\n",
    "import xarray as xr\n",
    "import fsspec\n",
    "import numpy as np\n",
    "import pyproj\n",
    "import dask.bag as db\n",
    "from dask.distributed import Client\n",
    "import logging\n",
    "\n",
    "%matplotlib inline"
   ]
  },
  {
   "cell_type": "markdown",
   "id": "9ddf90be",
   "metadata": {},
   "source": [
    "To be able to generate a separate geojson for each of the huc8 units (around 2300) we need the following tables: `wbdhu8` (in database `nhdplushr`) and `nhdflowline` (in database `nhdplusv2`). This is not _the only_ way to do this...it's just that this is how we went about it. To generate each of these tables download all the necessary files pertaining to NHDPlus V2 and NHDPlus HR and follow the instructions of creating the database listed  in the [project's README.md](https://github.com/azavea/noaa-hydro-data#local-database-setup)"
   ]
  },
  {
   "cell_type": "code",
   "execution_count": 2,
   "id": "320dbbf2",
   "metadata": {},
   "outputs": [],
   "source": [
    "def get_cursor(database):\n",
    "    connection = psycopg2.connect(host='database', database=database,user='postgres', password='password')\n",
    "    cursor = connection.cursor()\n",
    "    return cursor"
   ]
  },
  {
   "cell_type": "markdown",
   "id": "dc3e3138",
   "metadata": {},
   "source": [
    "# Get all HUC8s and write a GeoJSON file for each one."
   ]
  },
  {
   "cell_type": "code",
   "execution_count": 3,
   "id": "c2506429",
   "metadata": {},
   "outputs": [],
   "source": [
    "def get_huc8s(database):\n",
    "    cursor = get_cursor(database)\n",
    "    query = 'select huc8 from wbdhu8'\n",
    "    cursor.execute(query)\n",
    "    return [c[0] for c in cursor]"
   ]
  },
  {
   "cell_type": "code",
   "execution_count": 4,
   "id": "6b69f0a1",
   "metadata": {},
   "outputs": [],
   "source": [
    "def save_huc8_extract(huc8, out_dir):\n",
    "    # get huc8 boundary\n",
    "    cursor = get_cursor('nhdplushr')\n",
    "    query = 'SELECT wkb_geometry from wbdhu8 WHERE huc8=%s'\n",
    "    cursor.execute(query, [huc8])\n",
    "    ## huc_geom = shapely.wkb.loads(cursor.fetchone()[0].tobytes())\n",
    "    huc_geom = shapely.wkb.loads(cursor.fetchone()[0], hex=True)\n",
    "\n",
    "    # get reaches intersecting with huc boundary\n",
    "    cursor = get_cursor('nhdplusv2')\n",
    "    query = f'''\n",
    "        SELECT comid, ST_Force2D(wkb_geometry) from nhdflowline WHERE ST_Intersects(\n",
    "            ST_Transform(ST_GeomFromEWKB(wkb_geometry), 4326), ST_GeomFromGeoJSON(%s))\n",
    "        '''\n",
    "    huc_geom_str = json.dumps(shapely.geometry.mapping(huc_geom))\n",
    "    cursor.execute(query, [huc_geom_str])\n",
    "    reach_geoms = []\n",
    "    reach_ids = []\n",
    "    for reach_id, reach_geom in cursor:\n",
    "        reach_ids.append(int(reach_id))\n",
    "        reach_geoms.append(shapely.wkb.loads(reach_geom, hex=True))\n",
    "\n",
    "    # make dataframe with comid and geometries and save to GeoJSON\n",
    "    df = gpd.GeoDataFrame({'comid': reach_ids + [0], 'geometry': reach_geoms + [huc_geom]})\n",
    "    out_path = os.path.join(out_dir, f'{huc8}.json')\n",
    "    df.to_file(out_path, driver='GeoJSON', index=False)"
   ]
  },
  {
   "cell_type": "markdown",
   "id": "26dd46f9",
   "metadata": {},
   "source": [
    "Having defined the necessary extract utility functions let's try to generate the json files."
   ]
  },
  {
   "cell_type": "code",
   "execution_count": 5,
   "id": "d95c104c",
   "metadata": {},
   "outputs": [
    {
     "name": "stderr",
     "output_type": "stream",
     "text": [
      "ERROR 1: PROJ: proj_create_from_database: Open of /srv/conda/envs/notebook/share/proj failed\n"
     ]
    }
   ],
   "source": [
    "limit = npartitions = 10\n",
    "client = Client()\n",
    "\n",
    "huc8s = get_huc8s('nhdplushr')\n",
    "huc8_out_dir = f'/opt/data/noaa/huc8-extracts/'\n",
    "os.makedirs(huc8_out_dir, exist_ok=True)\n",
    "huc8s_processed = [f.replace('.json','') for f in os.listdir(huc8_out_dir)]\n",
    "if len(huc8s_processed) < len(huc8s):\n",
    "    huc8s_missing = list(set(huc8s) - set(huc8s_processed))\n",
    "    huc8_bag = db.from_sequence(huc8s_missing, npartitions=npartitions)\n",
    "    out8 = huc8_bag.map(save_huc8_extract, huc8_out_dir).compute()\n"
   ]
  },
  {
   "cell_type": "markdown",
   "id": "655e0bcd",
   "metadata": {},
   "source": [
    "The first time we ran the notebook we generated a geojson for each of the huc8 which contained not only the `comid` of each reach but also it's associated geometry (linestring). However, for our experiments we need only the boundary of huc8 and the associated `comid`s. Therefore, we transform the geojson to extract out the portions that we need for our experiment."
   ]
  },
  {
   "cell_type": "code",
   "execution_count": 6,
   "id": "1348c3bb",
   "metadata": {},
   "outputs": [],
   "source": [
    "def transform_geojsons(json_dir='/opt/data/noaa/huc8-extracts', out_dir='/opt/data/noaa/huc8-extracts/transformed'):\n",
    "    \n",
    "    logger = logging.getLogger('distributed.utils_perf')\n",
    "    logger.setLevel(logging.ERROR)\n",
    "    \n",
    "    jsons = [f for f in os.listdir(json_dir) if f.endswith('.json')]\n",
    "\n",
    "    for jsonfile in jsons:\n",
    "        huc8 = jsonfile.replace('.json', '')\n",
    "        out_path = f'{out_dir}/{huc8}.json'\n",
    "        if os.path.exists(out_path):\n",
    "            continue\n",
    "        dat = gpd.GeoDataFrame.from_file(f'{json_dir}/{jsonfile}', driver='GeoJSON')\n",
    "        comids = [c for c in dat.loc[:,'comid'][:-1]]\n",
    "        huc_geom = dat.iloc[-1,:]['geometry']\n",
    "        gdf = gpd.GeoDataFrame(data = {'huc8': [huc8], 'comids': [comids]}, geometry=[huc_geom], crs='EPSG:4326')\n",
    "        with open(out_path, 'w') as fw:\n",
    "            fw.write(gdf.to_json())\n",
    "\n",
    "\n",
    "transform_geojsons()"
   ]
  },
  {
   "cell_type": "markdown",
   "id": "488794e1",
   "metadata": {},
   "source": [
    "**NOTE:** We have to use `gdf.to_json()` instead of `gdf.to_file('02040202.json', driver='GeoJSON')` because neither geopandas nor shapely can read lists from geojsons. Geojsons can contain any json object ([geojson ref](https://datatracker.ietf.org/doc/html/rfc7946#section-3.2)) as properties but geopandas ([see here](https://github.com/geopandas/geopandas/issues/2113)) and fiona ([here](https://github.com/Toblerity/Fiona/issues/738)) are unable to handle list (or array in json)."
   ]
  },
  {
   "cell_type": "code",
   "execution_count": 8,
   "id": "2f39c4d9",
   "metadata": {},
   "outputs": [
    {
     "name": "stdout",
     "output_type": "stream",
     "text": [
      "Index(['id', 'huc8', 'geometry'], dtype='object')\n",
      "# of features => 1\n",
      "huc8 => 02040202\n",
      "first 5 comids => [4491350, 4495894, 4496294, 4491376, 4496504]\n"
     ]
    },
    {
     "data": {
      "image/png": "[encoded data removed]",
      "text/plain": [
       "<Figure size 432x288 with 1 Axes>"
      ]
     },
     "metadata": {
      "needs_background": "light"
     },
     "output_type": "display_data"
    }
   ],
   "source": [
    "huc8 = '02040202'\n",
    "fname = f'/opt/data/noaa/huc8-extracts/transformed/{huc8}.json'\n",
    "d = gpd.read_file(fname,driver='GeoJSON') ## neither fiona nor geopandas can read lists from geojson\n",
    "d.plot(facecolor='none')\n",
    "print(d.columns) ## comids column is missing!\n",
    "\n",
    "with open(fname) as fd:\n",
    "  js = json.load(fd)\n",
    "print(f'# of features => {len(js[\"features\"])}')\n",
    "print(f'huc8 => {js[\"features\"][0][\"properties\"][\"huc8\"]}')\n",
    "print(f'first 5 comids => {js[\"features\"][0][\"properties\"][\"comids\"][:5]}')"
   ]
  },
  {
   "cell_type": "code",
   "execution_count": null,
   "id": "05f5a934",
   "metadata": {},
   "outputs": [],
   "source": []
  }
 ],
 "metadata": {
  "kernelspec": {
   "display_name": "Python 3 (ipykernel)",
   "language": "python",
   "name": "python3"
  },
  "language_info": {
   "codemirror_mode": {
    "name": "ipython",
    "version": 3
   },
   "file_extension": ".py",
   "mimetype": "text/x-python",
   "name": "python",
   "nbconvert_exporter": "python",
   "pygments_lexer": "ipython3",
   "version": "3.9.13"
  }
 },
 "nbformat": 4,
 "nbformat_minor": 5
}
